{
 "cells": [
  {
   "cell_type": "code",
   "execution_count": null,
   "id": "3dbf913d-ccf7-455f-9402-a35ca06501fa",
   "metadata": {},
   "outputs": [],
   "source": []
  }
 ],
 "metadata": {
  "kernelspec": {
   "display_name": "",
   "name": ""
  },
  "language_info": {
   "name": ""
  }
 },
 "nbformat": 4,
 "nbformat_minor": 5
}
